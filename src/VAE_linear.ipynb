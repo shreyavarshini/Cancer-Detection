{
  "nbformat": 4,
  "nbformat_minor": 0,
  "metadata": {
    "colab": {
      "name": "VAE_linear.ipynb",
      "provenance": [],
      "collapsed_sections": []
    },
    "kernelspec": {
      "name": "python3",
      "display_name": "Python 3"
    },
    "accelerator": "GPU"
  },
  "cells": [
    {
      "cell_type": "code",
      "metadata": {
        "id": "ZVVcmhS1EkDD",
        "colab_type": "code",
        "outputId": "013aa09c-00e9-4ecd-ee8d-517889b5f8c5",
        "colab": {
          "base_uri": "https://localhost:8080/",
          "height": 122
        }
      },
      "source": [
        "from google.colab import drive\n",
        "drive.mount('/content/drive')"
      ],
      "execution_count": 0,
      "outputs": [
        {
          "output_type": "stream",
          "text": [
            "Go to this URL in a browser: https://accounts.google.com/o/oauth2/auth?client_id=947318989803-6bn6qk8qdgf4n4g3pfee6491hc0brc4i.apps.googleusercontent.com&redirect_uri=urn%3Aietf%3Awg%3Aoauth%3A2.0%3Aoob&scope=email%20https%3A%2F%2Fwww.googleapis.com%2Fauth%2Fdocs.test%20https%3A%2F%2Fwww.googleapis.com%2Fauth%2Fdrive%20https%3A%2F%2Fwww.googleapis.com%2Fauth%2Fdrive.photos.readonly%20https%3A%2F%2Fwww.googleapis.com%2Fauth%2Fpeopleapi.readonly&response_type=code\n",
            "\n",
            "Enter your authorization code:\n",
            "··········\n",
            "Mounted at /content/drive\n"
          ],
          "name": "stdout"
        }
      ]
    },
    {
      "cell_type": "code",
      "metadata": {
        "id": "HFQkni0GE9oQ",
        "colab_type": "code",
        "colab": {}
      },
      "source": [
        "import sys\n",
        "sys.path.insert(0, '/content/drive/My Drive/VAE/')\n",
        "sys.path.append('/content/drive/My Drive/VAE')\n",
        "sys.path.append('/content/drive/Cancer-Detection/data/train/benign/')"
      ],
      "execution_count": 0,
      "outputs": []
    },
    {
      "cell_type": "code",
      "metadata": {
        "id": "fzDEZJFsKlYt",
        "colab_type": "code",
        "outputId": "5b345bca-f442-4376-e006-8f9afcd75476",
        "colab": {
          "base_uri": "https://localhost:8080/",
          "height": 153
        }
      },
      "source": [
        "! git clone --recursive https://github.com/shreyavarshini/Cancer-Detection.git"
      ],
      "execution_count": 0,
      "outputs": [
        {
          "output_type": "stream",
          "text": [
            "Cloning into 'Cancer-Detection'...\n",
            "remote: Enumerating objects: 28, done.\u001b[K\n",
            "remote: Counting objects: 100% (28/28), done.\u001b[K\n",
            "remote: Compressing objects: 100% (21/21), done.\u001b[K\n",
            "remote: Total 18717 (delta 4), reused 26 (delta 2), pack-reused 18689\u001b[K\n",
            "Receiving objects: 100% (18717/18717), 318.63 MiB | 12.90 MiB/s, done.\n",
            "Resolving deltas: 100% (4/4), done.\n",
            "Checking out files: 100% (18679/18679), done.\n"
          ],
          "name": "stdout"
        }
      ]
    },
    {
      "cell_type": "code",
      "metadata": {
        "id": "3f9TYHoRU4u6",
        "colab_type": "code",
        "colab": {}
      },
      "source": [
        "# imports and initializations\n",
        "from __future__ import print_function\n",
        "import argparse\n",
        "import torch\n",
        "import torch.utils.data\n",
        "from torch import nn, optim\n",
        "from torch.nn import functional as F\n",
        "from torchvision import datasets, transforms, transforms, utils\n",
        "from torchvision.utils import save_image\n",
        "from torch.utils.data import Dataset, DataLoader\n",
        "import matplotlib.pyplot as plt\n",
        "from torch.autograd import Variable"
      ],
      "execution_count": 0,
      "outputs": []
    },
    {
      "cell_type": "code",
      "metadata": {
        "id": "QdFEC4zCENrA",
        "colab_type": "code",
        "colab": {}
      },
      "source": [
        "# Arguments for the model\n",
        "class Args:\n",
        "  batch_size = 20\n",
        "  epochs = 60\n",
        "  no_cuda = False\n",
        "  seed = 1\n",
        "  log_interval = 10\n",
        "  lr = 1e-4\n",
        "\n",
        "args=Args()\n",
        "args.cuda = not args.no_cuda and torch.cuda.is_available()\n",
        "torch.manual_seed(args.seed)\n",
        "device = torch.device(\"cuda\" if args.cuda else \"cpu\")"
      ],
      "execution_count": 0,
      "outputs": []
    },
    {
      "cell_type": "code",
      "metadata": {
        "id": "4qXazX4SVDoa",
        "colab_type": "code",
        "colab": {}
      },
      "source": [
        "# Dataset loader\n",
        "def load_dataset( folder ):\n",
        "    data_path = '/content/Cancer-Detection/data/' + folder\n",
        "    transform = transforms.Compose([\n",
        "    transforms.Resize(( 128, 128 ) ),\n",
        "    transforms.ToTensor()\n",
        "    ])\n",
        "    dataset = datasets.ImageFolder( root=data_path, transform=transform )\n",
        "\n",
        "    loader = torch.utils.data.DataLoader(\n",
        "        dataset,\n",
        "        batch_size=1,\n",
        "        num_workers=5,\n",
        "        shuffle=True\n",
        "    )\n",
        "    return loader\n",
        "\n",
        "train_loader1 = load_dataset( 'train/benign_train' )\n",
        "train_loader = load_dataset( 'train/malignant_train' )\n",
        "\n",
        "test_loader1 = load_dataset( 'test/benign_test' )\n",
        "test_loader = load_dataset( 'test/malignant_test' )\n"
      ],
      "execution_count": 0,
      "outputs": []
    },
    {
      "cell_type": "code",
      "metadata": {
        "id": "lK1ugsdZtZ5M",
        "colab_type": "code",
        "colab": {}
      },
      "source": [
        "class Encoder(nn.Module):\n",
        "    def __init__(self, input_dim, hidden_dim, z_dim):\n",
        "        '''\n",
        "        Args:\n",
        "            input_dim: A integer indicating the size of input\n",
        "            hidden_dim: A integer indicating the size of hidden dimension\n",
        "            z_dim: A integer indicating the latent dimension\n",
        "        '''\n",
        "        super().__init__()\n",
        "\n",
        "        self.linear = nn.Linear(input_dim, hidden_dim)\n",
        "        self.mu = nn.Linear(hidden_dim, z_dim)\n",
        "        self.var = nn.Linear(hidden_dim, z_dim)\n",
        "\n",
        "    def forward(self, x):\n",
        "        # x is of shape [batch_size, input_dim]\n",
        "\n",
        "        hidden = F.relu(self.linear(x))\n",
        "        # hidden is of shape [batch_size, hidden_dim]\n",
        "        z_mu = self.mu(hidden)\n",
        "        # z_mu is of shape [batch_size, latent_dim]\n",
        "        z_var = self.var(hidden)\n",
        "        # z_var is of shape [batch_size, latent_dim]\n",
        "\n",
        "        return z_mu, z_var"
      ],
      "execution_count": 0,
      "outputs": []
    },
    {
      "cell_type": "code",
      "metadata": {
        "id": "_CilsDiItbrb",
        "colab_type": "code",
        "colab": {}
      },
      "source": [
        "class Decoder(nn.Module):\n",
        "    def __init__(self, z_dim, hidden_dim, output_dim):\n",
        "        '''\n",
        "        Args:\n",
        "            z_dim: A integer indicating the latent size.\n",
        "            hidden_dim: A integer indicating the size of hidden dimension.\n",
        "            output_dim: A integer indicating the output dimension\n",
        "        '''\n",
        "        super().__init__()\n",
        "\n",
        "        self.linear = nn.Linear(z_dim, hidden_dim)\n",
        "        self.out = nn.Linear(hidden_dim, output_dim)\n",
        "\n",
        "    def forward(self, x):\n",
        "        # x is of shape [batch_size, latent_dim]\n",
        "\n",
        "        hidden = F.relu(self.linear(x))\n",
        "        # hidden is of shape [batch_size, hidden_dim]\n",
        "\n",
        "        predicted = torch.sigmoid(self.out(hidden))\n",
        "        # predicted is of shape [batch_size, output_dim]\n",
        "        return predicted\n"
      ],
      "execution_count": 0,
      "outputs": []
    },
    {
      "cell_type": "code",
      "metadata": {
        "id": "7qVcj5tmiScZ",
        "colab_type": "code",
        "colab": {}
      },
      "source": [
        "class VAE(nn.Module):\n",
        "    def __init__(self, enc, dec):\n",
        "        ''' This the VAE, which takes a encoder and decoder.\n",
        "        '''\n",
        "        super().__init__()\n",
        "\n",
        "        self.encode = enc\n",
        "        self.decode = dec\n",
        "\n",
        "    def forward(self, x):\n",
        "        # encode\n",
        "        z_mu, z_var = self.encode(x)\n",
        "\n",
        "        # sample from the distribution having latent parameters z_mu, z_var\n",
        "        # reparameterize\n",
        "        std = torch.exp(z_var / 2)\n",
        "        eps = torch.randn_like(std)\n",
        "        x_sample = eps.mul(std).add_(z_mu)\n",
        "\n",
        "        # decode\n",
        "        predicted = self.decode(x_sample)\n",
        "        return predicted, z_mu, z_var"
      ],
      "execution_count": 0,
      "outputs": []
    },
    {
      "cell_type": "code",
      "metadata": {
        "id": "m01lXDpiuTAw",
        "colab_type": "code",
        "colab": {}
      },
      "source": [
        "INPUT_DIM = 49152\n",
        "HIDDEN_DIM = 400\n",
        "LATENT_DIM = 50\n",
        "\n",
        "# encoder\n",
        "encoder = Encoder(INPUT_DIM, HIDDEN_DIM, LATENT_DIM)\n",
        "\n",
        "# decoder\n",
        "decoder = Decoder(LATENT_DIM, HIDDEN_DIM, INPUT_DIM)\n",
        "\n",
        "# vae\n",
        "model = VAE(encoder, decoder).to(device)\n",
        "\n",
        "# optimizer\n",
        "optimizer = optim.Adam(model.parameters(), lr=args.lr)"
      ],
      "execution_count": 0,
      "outputs": []
    },
    {
      "cell_type": "code",
      "metadata": {
        "id": "73qiGwhKETkL",
        "colab_type": "code",
        "colab": {}
      },
      "source": [
        "from google.colab import files\n",
        "\n",
        "def loss_function(recon_x, x, mu, logvar):\n",
        "    # how well do input x and output recon_x agree?\n",
        "    BCE = F.binary_cross_entropy(recon_x, x.view(-1, 49152))\n",
        "\n",
        "    # KLD is Kullback–Leibler divergence -- how much does one learned\n",
        "    # distribution deviate from another, in this specific case the\n",
        "    # learned distribution from the unit Gaussian\n",
        "\n",
        "    # see Appendix B from VAE paper:\n",
        "    # Kingma and Welling. Auto-Encoding Variational Bayes. ICLR, 2014\n",
        "    # https://arxiv.org/abs/1312.6114\n",
        "    # - D_{KL} = 0.5 * sum(1 + log(sigma^2) - mu^2 - sigma^2)\n",
        "    # note the negative D_{KL} in appendix B of the paper\n",
        "    KLD = -0.5 * torch.sum(1 + logvar - mu.pow(2) - logvar.exp())\n",
        "    # Normalise by same number of elements as in reconstruction\n",
        "    KLD /= 20 * 49152\n",
        "\n",
        "    # BCE tries to make our reconstruction as accurate as possible\n",
        "    # KLD tries to push the distributions as close as possible to unit Gaussian\n",
        "    return BCE + KLD\n",
        "\n",
        "def train(epoch):\n",
        "    model.train()\n",
        "    train_loss = 0\n",
        "    for batch_idx, (data, _) in enumerate(train_loader):\n",
        "        data = data.view(-1, 3 * 128 * 128)\n",
        "        data = data.to(device)\n",
        "\n",
        "        # update the gradients to zero\n",
        "        optimizer.zero_grad()\n",
        "\n",
        "        # forward pass\n",
        "        recon_batch, mu, logvar = model(data)\n",
        "\n",
        "\n",
        "        # reconstruction loss + kl divergence loss\n",
        "        loss = loss_function(recon_batch, data, mu, logvar)\n",
        "\n",
        "        \n",
        "         # backward pass\n",
        "        loss.backward()\n",
        "        train_loss += loss.item()\n",
        "\n",
        "        # update the weights\n",
        "        optimizer.step()\n",
        "\n",
        "        if batch_idx % args.log_interval == 0:\n",
        "            print('Train Epoch: {} [{}/{} ({:.0f}%)]\\tLoss: {:.6f}'.format(\n",
        "                epoch, batch_idx * len(data), len(train_loader.dataset),\n",
        "                100. * batch_idx / len(train_loader),\n",
        "                loss.item() / len(data)))\n",
        "\n",
        "    print('====> Epoch: {} Average loss: {:.4f}'.format(\n",
        "          epoch, train_loss / len(train_loader.dataset)))\n",
        "\n",
        "\n",
        "def test(epoch):\n",
        "    # set the evaluation mode\n",
        "    model.eval()\n",
        "\n",
        "    # test loss for the data\n",
        "    test_loss = 0\n",
        "\n",
        "    with torch.no_grad():\n",
        "        for i, (data, _) in enumerate(test_loader):\n",
        "            data = data.view(-1, 3 * 128 * 128)\n",
        "            data = data.to(device)\n",
        "\n",
        "            # forward pass\n",
        "            recon_batch, mu, logvar = model(data)\n",
        "\n",
        "            # total loss\n",
        "            test_loss += loss_function(recon_batch, data, mu, logvar).item()\n",
        "\n",
        "    test_loss /= len(test_loader.dataset)\n",
        "    print('====> Test set loss: {:.4f}'.format(test_loss))\n",
        "\n",
        "if __name__ == \"__main__\":\n",
        "    for epoch in range(1, args.epochs + 1):\n",
        "        train(epoch)\n",
        "        test(epoch)\n",
        "        with torch.no_grad():\n",
        "            sample = torch.randn(1, LATENT_DIM).to(device)\n",
        "            sample = model.decode(sample).cpu()\n",
        "            img = sample.view(3, 128, 128)\n",
        "            img = img.permute(1, 2, 0)\n",
        "            plt.figure()\n",
        "            plt.imshow(img)\n",
        "            plt.show()\n",
        "    with torch.no_grad():\n",
        "      for i in range(1000):\n",
        "        sample = torch.randn(1, LATENT_DIM).to(device)\n",
        "        sample = model.decode(sample).cpu()\n",
        "        img = sample.view(3, 128, 128)\n",
        "        img = img.permute(1, 2, 0)\n",
        "        \n",
        "        plt.figure()\n",
        "        _ = plt.imshow(img)\n",
        "        name = '/content/Cancer-Detection/Generated_data/Malignant/image_' + str(i) + \".png\" \n",
        "        plt.savefig(name)\n",
        "    \n",
        "    ! zip -r \"/content/images_Malignant.zip\" \"/content/Cancer-Detection/Generated_data/Malignant/\""
      ],
      "execution_count": 0,
      "outputs": []
    },
    {
      "cell_type": "code",
      "metadata": {
        "id": "ZK8tJMAdS1P3",
        "colab_type": "code",
        "colab": {
          "base_uri": "https://localhost:8080/",
          "height": 105
        },
        "outputId": "491a5f76-1f96-442d-a664-0e14b82d000b"
      },
      "source": [
        "!ps -aux|grep python"
      ],
      "execution_count": 14,
      "outputs": [
        {
          "output_type": "stream",
          "text": [
            "root          19  0.5  0.8 413692 110264 ?       Sl   14:23   1:06 /usr/bin/python2 /usr/local/bin/jupyter-notebook --ip=\"172.28.0.2\" --port=9000 --FileContentsManager.root_dir=\"/\" --MappingKernelManager.root_dir=\"/content\"\n",
            "root       11775  8.1 19.8 18505540 2644516 ?    Ssl  17:34   0:20 /usr/bin/python3 -m ipykernel_launcher -f /root/.local/share/jupyter/runtime/kernel-c9f09194-5edc-4a90-aa53-771fedb1101b.json\n",
            "root       11915  0.0  0.0  39192  6616 ?        S    17:38   0:00 /bin/bash -c ps -aux|grep python\n",
            "root       11917  0.0  0.0  39192  2700 ?        D    17:38   0:00 /bin/bash -c ps -aux|grep python\n"
          ],
          "name": "stdout"
        }
      ]
    },
    {
      "cell_type": "code",
      "metadata": {
        "id": "K_xxZCEvS207",
        "colab_type": "code",
        "colab": {}
      },
      "source": [
        "! kill -9 11775"
      ],
      "execution_count": 0,
      "outputs": []
    }
  ]
}